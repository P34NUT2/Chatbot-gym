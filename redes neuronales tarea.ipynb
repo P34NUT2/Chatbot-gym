{
 "cells": [
  {
   "cell_type": "code",
   "execution_count": 1,
   "metadata": {},
   "outputs": [],
   "source": [
    "import tensorflow as tf\n",
    "import numpy as np\n",
    "import matplotlib.pyplot as plt"
   ]
  },
  {
   "cell_type": "code",
   "execution_count": 2,
   "metadata": {},
   "outputs": [
    {
     "name": "stdout",
     "output_type": "stream",
     "text": [
      "Epoch 1/10\n"
     ]
    },
    {
     "name": "stderr",
     "output_type": "stream",
     "text": [
      "c:\\Users\\josev\\AppData\\Local\\Programs\\Python\\Python312\\Lib\\site-packages\\keras\\src\\layers\\reshaping\\flatten.py:37: UserWarning: Do not pass an `input_shape`/`input_dim` argument to a layer. When using Sequential models, prefer using an `Input(shape)` object as the first layer in the model instead.\n",
      "  super().__init__(**kwargs)\n"
     ]
    },
    {
     "name": "stdout",
     "output_type": "stream",
     "text": [
      "\u001b[1m1875/1875\u001b[0m \u001b[32m━━━━━━━━━━━━━━━━━━━━\u001b[0m\u001b[37m\u001b[0m \u001b[1m3s\u001b[0m 1ms/step - accuracy: 0.7818 - loss: 0.6239 - val_accuracy: 0.8485 - val_loss: 0.4298\n",
      "Epoch 2/10\n",
      "\u001b[1m1875/1875\u001b[0m \u001b[32m━━━━━━━━━━━━━━━━━━━━\u001b[0m\u001b[37m\u001b[0m \u001b[1m2s\u001b[0m 1ms/step - accuracy: 0.8604 - loss: 0.3882 - val_accuracy: 0.8495 - val_loss: 0.3958\n",
      "Epoch 3/10\n",
      "\u001b[1m1875/1875\u001b[0m \u001b[32m━━━━━━━━━━━━━━━━━━━━\u001b[0m\u001b[37m\u001b[0m \u001b[1m2s\u001b[0m 1ms/step - accuracy: 0.8759 - loss: 0.3402 - val_accuracy: 0.8688 - val_loss: 0.3610\n",
      "Epoch 4/10\n",
      "\u001b[1m1875/1875\u001b[0m \u001b[32m━━━━━━━━━━━━━━━━━━━━\u001b[0m\u001b[37m\u001b[0m \u001b[1m2s\u001b[0m 1ms/step - accuracy: 0.8862 - loss: 0.3094 - val_accuracy: 0.8574 - val_loss: 0.3913\n",
      "Epoch 5/10\n",
      "\u001b[1m1875/1875\u001b[0m \u001b[32m━━━━━━━━━━━━━━━━━━━━\u001b[0m\u001b[37m\u001b[0m \u001b[1m5s\u001b[0m 3ms/step - accuracy: 0.8924 - loss: 0.2888 - val_accuracy: 0.8687 - val_loss: 0.3559\n",
      "Epoch 6/10\n",
      "\u001b[1m1875/1875\u001b[0m \u001b[32m━━━━━━━━━━━━━━━━━━━━\u001b[0m\u001b[37m\u001b[0m \u001b[1m7s\u001b[0m 4ms/step - accuracy: 0.8974 - loss: 0.2778 - val_accuracy: 0.8636 - val_loss: 0.3776\n",
      "Epoch 7/10\n",
      "\u001b[1m1875/1875\u001b[0m \u001b[32m━━━━━━━━━━━━━━━━━━━━\u001b[0m\u001b[37m\u001b[0m \u001b[1m2s\u001b[0m 1ms/step - accuracy: 0.8975 - loss: 0.2702 - val_accuracy: 0.8713 - val_loss: 0.3612\n",
      "Epoch 8/10\n",
      "\u001b[1m1875/1875\u001b[0m \u001b[32m━━━━━━━━━━━━━━━━━━━━\u001b[0m\u001b[37m\u001b[0m \u001b[1m2s\u001b[0m 1ms/step - accuracy: 0.9068 - loss: 0.2521 - val_accuracy: 0.8737 - val_loss: 0.3604\n",
      "Epoch 9/10\n",
      "\u001b[1m1875/1875\u001b[0m \u001b[32m━━━━━━━━━━━━━━━━━━━━\u001b[0m\u001b[37m\u001b[0m \u001b[1m2s\u001b[0m 1ms/step - accuracy: 0.9084 - loss: 0.2432 - val_accuracy: 0.8735 - val_loss: 0.3572\n",
      "Epoch 10/10\n",
      "\u001b[1m1875/1875\u001b[0m \u001b[32m━━━━━━━━━━━━━━━━━━━━\u001b[0m\u001b[37m\u001b[0m \u001b[1m2s\u001b[0m 1ms/step - accuracy: 0.9105 - loss: 0.2382 - val_accuracy: 0.8816 - val_loss: 0.3414\n",
      "313/313 - 0s - 823us/step - accuracy: 0.8816 - loss: 0.3414\n",
      "\n",
      "Precisión alcanzada en el conjunto de prueba: 0.88\n",
      "\u001b[1m1/1\u001b[0m \u001b[32m━━━━━━━━━━━━━━━━━━━━\u001b[0m\u001b[37m\u001b[0m \u001b[1m0s\u001b[0m 43ms/step\n"
     ]
    },
    {
     "data": {
      "image/png": "[encoded data removed]",
      "text/plain": [
       "<Figure size 640x480 with 1 Axes>"
      ]
     },
     "metadata": {},
     "output_type": "display_data"
    }
   ],
   "source": [
    "# Cargar el dataset Fashion MNIST\n",
    "fashion_mnist = tf.keras.datasets.fashion_mnist\n",
    "(train_images, train_labels), (test_images, test_labels) = fashion_mnist.load_data()\n",
    "\n",
    "# Normalización de los datos\n",
    "train_images = train_images / 255.0\n",
    "test_images = test_images / 255.0\n",
    "\n",
    "# Nombres de las clases (categorías)\n",
    "categories = ['Camiseta/top', 'Pantalón', 'Suéter', 'Vestido', 'Abrigo',\n",
    "              'Sandalia', 'Camisa', 'Tenis', 'Bolsa', 'Bota']\n",
    "\n",
    "# Construcción del modelo\n",
    "model = tf.keras.Sequential([\n",
    "    tf.keras.layers.Flatten(input_shape=(28, 28)),  \n",
    "    tf.keras.layers.Dense(128, activation='relu'),  \n",
    "    tf.keras.layers.Dense(10, activation='softmax')  \n",
    "])\n",
    "\n",
    "# Configuración del modelo\n",
    "model.compile(optimizer='adam',\n",
    "              loss='sparse_categorical_crossentropy',\n",
    "              metrics=['accuracy'])\n",
    "\n",
    "# Entrenamiento del modelo\n",
    "model.fit(train_images, train_labels, epochs=10, validation_data=(test_images, test_labels))\n",
    "\n",
    "# Evaluación del modelo\n",
    "loss, accuracy = model.evaluate(test_images, test_labels, verbose=2)\n",
    "print(f'\\nPrecisión alcanzada en el conjunto de prueba: {accuracy:.2f}')\n",
    "\n",
    "# Función para realizar predicciones\n",
    "def classify_image(model, img):\n",
    "    img = np.expand_dims(img, axis=0)  \n",
    "    probabilities = model.predict(img)\n",
    "    predicted_index = np.argmax(probabilities)\n",
    "    confidence_level = np.max(probabilities)\n",
    "    return predicted_index, confidence_level\n",
    "\n",
    "# Selección de imagen para prueba\n",
    "index = 7  # Puedes cambiar este índice para probar otras imágenes\n",
    "test_image = test_images[index]\n",
    "actual_label = test_labels[index]\n",
    "\n",
    "# Predicción del modelo\n",
    "predicted_label, confidence = classify_image(model, test_image)\n",
    "\n",
    "# Visualización de la imagen con resultados\n",
    "plt.imshow(test_image, cmap='gray')\n",
    "plt.axis('off')\n",
    "plt.title(f'Predicción: {categories[predicted_label]}\\n'\n",
    "          f'Confianza: {confidence:.2f}\\n'\n",
    "          f'Etiqueta verdadera: {categories[actual_label]}')\n",
    "plt.show()\n"
   ]
  }
 ],
 "metadata": {
  "kernelspec": {
   "display_name": "Python 3",
   "language": "python",
   "name": "python3"
  },
  "language_info": {
   "codemirror_mode": {
    "name": "ipython",
    "version": 3
   },
   "file_extension": ".py",
   "mimetype": "text/x-python",
   "name": "python",
   "nbconvert_exporter": "python",
   "pygments_lexer": "ipython3",
   "version": "3.12.2"
  }
 },
 "nbformat": 4,
 "nbformat_minor": 2
}
