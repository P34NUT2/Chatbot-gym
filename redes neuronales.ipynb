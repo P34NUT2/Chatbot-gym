{
 "cells": [
  {
   "cell_type": "code",
   "execution_count": 5,
   "metadata": {},
   "outputs": [],
   "source": [
    "import tensorflow as tf\n",
    "import numpy as np\n",
    "import matplotlib.pyplot as plt"
   ]
  },
  {
   "cell_type": "code",
   "execution_count": 6,
   "metadata": {},
   "outputs": [
    {
     "name": "stdout",
     "output_type": "stream",
     "text": [
      "Epoch 1/10\n",
      "\u001b[1m1875/1875\u001b[0m \u001b[32m━━━━━━━━━━━━━━━━━━━━\u001b[0m\u001b[37m\u001b[0m \u001b[1m3s\u001b[0m 1ms/step - accuracy: 0.7812 - loss: 0.6319 - val_accuracy: 0.8418 - val_loss: 0.4467\n",
      "Epoch 2/10\n",
      "\u001b[1m1875/1875\u001b[0m \u001b[32m━━━━━━━━━━━━━━━━━━━━\u001b[0m\u001b[37m\u001b[0m \u001b[1m2s\u001b[0m 1ms/step - accuracy: 0.8619 - loss: 0.3860 - val_accuracy: 0.8587 - val_loss: 0.3956\n",
      "Epoch 3/10\n",
      "\u001b[1m1875/1875\u001b[0m \u001b[32m━━━━━━━━━━━━━━━━━━━━\u001b[0m\u001b[37m\u001b[0m \u001b[1m2s\u001b[0m 1ms/step - accuracy: 0.8746 - loss: 0.3428 - val_accuracy: 0.8669 - val_loss: 0.3723\n",
      "Epoch 4/10\n",
      "\u001b[1m1875/1875\u001b[0m \u001b[32m━━━━━━━━━━━━━━━━━━━━\u001b[0m\u001b[37m\u001b[0m \u001b[1m2s\u001b[0m 1ms/step - accuracy: 0.8857 - loss: 0.3132 - val_accuracy: 0.8670 - val_loss: 0.3622\n",
      "Epoch 5/10\n",
      "\u001b[1m1875/1875\u001b[0m \u001b[32m━━━━━━━━━━━━━━━━━━━━\u001b[0m\u001b[37m\u001b[0m \u001b[1m2s\u001b[0m 1ms/step - accuracy: 0.8900 - loss: 0.2959 - val_accuracy: 0.8744 - val_loss: 0.3550\n",
      "Epoch 6/10\n",
      "\u001b[1m1875/1875\u001b[0m \u001b[32m━━━━━━━━━━━━━━━━━━━━\u001b[0m\u001b[37m\u001b[0m \u001b[1m2s\u001b[0m 1ms/step - accuracy: 0.8952 - loss: 0.2847 - val_accuracy: 0.8811 - val_loss: 0.3425\n",
      "Epoch 7/10\n",
      "\u001b[1m1875/1875\u001b[0m \u001b[32m━━━━━━━━━━━━━━━━━━━━\u001b[0m\u001b[37m\u001b[0m \u001b[1m2s\u001b[0m 1ms/step - accuracy: 0.8990 - loss: 0.2673 - val_accuracy: 0.8633 - val_loss: 0.3746\n",
      "Epoch 8/10\n",
      "\u001b[1m1875/1875\u001b[0m \u001b[32m━━━━━━━━━━━━━━━━━━━━\u001b[0m\u001b[37m\u001b[0m \u001b[1m2s\u001b[0m 1ms/step - accuracy: 0.9029 - loss: 0.2602 - val_accuracy: 0.8824 - val_loss: 0.3263\n",
      "Epoch 9/10\n",
      "\u001b[1m1875/1875\u001b[0m \u001b[32m━━━━━━━━━━━━━━━━━━━━\u001b[0m\u001b[37m\u001b[0m \u001b[1m2s\u001b[0m 1ms/step - accuracy: 0.9093 - loss: 0.2450 - val_accuracy: 0.8836 - val_loss: 0.3312\n",
      "Epoch 10/10\n",
      "\u001b[1m1875/1875\u001b[0m \u001b[32m━━━━━━━━━━━━━━━━━━━━\u001b[0m\u001b[37m\u001b[0m \u001b[1m2s\u001b[0m 1ms/step - accuracy: 0.9103 - loss: 0.2392 - val_accuracy: 0.8802 - val_loss: 0.3375\n",
      "313/313 - 0s - 789us/step - accuracy: 0.8802 - loss: 0.3375\n",
      "\n",
      "Precisión en el conjunto de prueba: 0.8802000284194946\n",
      "\u001b[1m1/1\u001b[0m \u001b[32m━━━━━━━━━━━━━━━━━━━━\u001b[0m\u001b[37m\u001b[0m \u001b[1m0s\u001b[0m 39ms/step\n"
     ]
    },
    {
     "data": {
      "image/png": "[encoded data removed]",
      "text/plain": [
       "<Figure size 640x480 with 1 Axes>"
      ]
     },
     "metadata": {},
     "output_type": "display_data"
    }
   ],
   "source": [
    "fashion_mnist = tf.keras.datasets.fashion_mnist\n",
    "(x_train, y_train), (x_test, y_test) = fashion_mnist.load_data()\n",
    "\n",
    "x_train, x_test = x_train / 255.0, x_test / 255.0\n",
    "\n",
    "class_names = ['T-shirt/top', 'Trouser', 'Pullover', 'Dress', 'Coat',\n",
    "               'Sandal', 'Shirt', 'Sneaker', 'Bag', 'Ankle boot']\n",
    "\n",
    "model = tf.keras.Sequential([\n",
    "    tf.keras.layers.Flatten(input_shape=(28, 28)),  \n",
    "    tf.keras.layers.Dense(128, activation='relu'),  \n",
    "    tf.keras.layers.Dense(10, activation='softmax')  \n",
    "])\n",
    "\n",
    "model.compile(optimizer='adam',\n",
    "              loss='sparse_categorical_crossentropy',\n",
    "              metrics=['accuracy'])\n",
    "\n",
    "model.fit(x_train, y_train, epochs=10, validation_data=(x_test, y_test))\n",
    "\n",
    "test_loss, test_acc = model.evaluate(x_test, y_test, verbose=2)\n",
    "print(f'\\nPrecisión en el conjunto de prueba: {test_acc}')\n",
    "\n",
    "def predict_image(model, image):\n",
    "    image = np.expand_dims(image, axis=0)  \n",
    "    predictions = model.predict(image)  \n",
    "    predicted_class = np.argmax(predictions)  \n",
    "    confidence = np.max(predictions)  \n",
    "    return predicted_class, confidence\n",
    "\n",
    "# Seleccionar una imagen de prueba\n",
    "image_index = 5  \n",
    "image = x_test[image_index]\n",
    "true_label = y_test[image_index]\n",
    "\n",
    "predicted_class, confidence = predict_image(model, image)\n",
    "\n",
    "plt.imshow(image, cmap='gray')\n",
    "plt.axis('off')\n",
    "plt.title(f'Predicción: {class_names[predicted_class]}\\nConfianza: {confidence:.2f}\\nEtiqueta verdadera: {class_names[true_label]}')\n",
    "plt.show()"
   ]
  },
  {
   "cell_type": "code",
   "execution_count": 7,
   "metadata": {},
   "outputs": [
    {
     "name": "stdout",
     "output_type": "stream",
     "text": [
      "Epoch 1/10\n",
      "\u001b[1m1875/1875\u001b[0m \u001b[32m━━━━━━━━━━━━━━━━━━━━\u001b[0m\u001b[37m\u001b[0m \u001b[1m3s\u001b[0m 1ms/step - accuracy: 0.7856 - loss: 0.6171 - val_accuracy: 0.8533 - val_loss: 0.4107\n",
      "Epoch 2/10\n",
      "\u001b[1m1875/1875\u001b[0m \u001b[32m━━━━━━━━━━━━━━━━━━━━\u001b[0m\u001b[37m\u001b[0m \u001b[1m2s\u001b[0m 1ms/step - accuracy: 0.8621 - loss: 0.3760 - val_accuracy: 0.8637 - val_loss: 0.3861\n",
      "Epoch 3/10\n",
      "\u001b[1m1875/1875\u001b[0m \u001b[32m━━━━━━━━━━━━━━━━━━━━\u001b[0m\u001b[37m\u001b[0m \u001b[1m2s\u001b[0m 1ms/step - accuracy: 0.8790 - loss: 0.3347 - val_accuracy: 0.8605 - val_loss: 0.3839\n",
      "Epoch 4/10\n",
      "\u001b[1m1875/1875\u001b[0m \u001b[32m━━━━━━━━━━━━━━━━━━━━\u001b[0m\u001b[37m\u001b[0m \u001b[1m2s\u001b[0m 1ms/step - accuracy: 0.8856 - loss: 0.3101 - val_accuracy: 0.8700 - val_loss: 0.3589\n",
      "Epoch 5/10\n",
      "\u001b[1m1875/1875\u001b[0m \u001b[32m━━━━━━━━━━━━━━━━━━━━\u001b[0m\u001b[37m\u001b[0m \u001b[1m2s\u001b[0m 1ms/step - accuracy: 0.8924 - loss: 0.2953 - val_accuracy: 0.8673 - val_loss: 0.3758\n",
      "Epoch 6/10\n",
      "\u001b[1m1875/1875\u001b[0m \u001b[32m━━━━━━━━━━━━━━━━━━━━\u001b[0m\u001b[37m\u001b[0m \u001b[1m2s\u001b[0m 1ms/step - accuracy: 0.8982 - loss: 0.2752 - val_accuracy: 0.8763 - val_loss: 0.3492\n",
      "Epoch 7/10\n",
      "\u001b[1m1875/1875\u001b[0m \u001b[32m━━━━━━━━━━━━━━━━━━━━\u001b[0m\u001b[37m\u001b[0m \u001b[1m2s\u001b[0m 1ms/step - accuracy: 0.8995 - loss: 0.2707 - val_accuracy: 0.8748 - val_loss: 0.3493\n",
      "Epoch 8/10\n",
      "\u001b[1m1875/1875\u001b[0m \u001b[32m━━━━━━━━━━━━━━━━━━━━\u001b[0m\u001b[37m\u001b[0m \u001b[1m2s\u001b[0m 1ms/step - accuracy: 0.9056 - loss: 0.2523 - val_accuracy: 0.8794 - val_loss: 0.3456\n",
      "Epoch 9/10\n",
      "\u001b[1m1875/1875\u001b[0m \u001b[32m━━━━━━━━━━━━━━━━━━━━\u001b[0m\u001b[37m\u001b[0m \u001b[1m2s\u001b[0m 1ms/step - accuracy: 0.9091 - loss: 0.2473 - val_accuracy: 0.8860 - val_loss: 0.3218\n",
      "Epoch 10/10\n",
      "\u001b[1m1875/1875\u001b[0m \u001b[32m━━━━━━━━━━━━━━━━━━━━\u001b[0m\u001b[37m\u001b[0m \u001b[1m2s\u001b[0m 1ms/step - accuracy: 0.9138 - loss: 0.2297 - val_accuracy: 0.8820 - val_loss: 0.3378\n",
      "313/313 - 0s - 837us/step - accuracy: 0.8820 - loss: 0.3378\n",
      "\n",
      "Precisión alcanzada en el conjunto de prueba: 0.88\n",
      "\u001b[1m1/1\u001b[0m \u001b[32m━━━━━━━━━━━━━━━━━━━━\u001b[0m\u001b[37m\u001b[0m \u001b[1m0s\u001b[0m 37ms/step\n"
     ]
    },
    {
     "data": {
      "image/png": "[encoded data removed]",
      "text/plain": [
       "<Figure size 640x480 with 1 Axes>"
      ]
     },
     "metadata": {},
     "output_type": "display_data"
    }
   ],
   "source": [
    "import tensorflow as tf\n",
    "import numpy as np\n",
    "import matplotlib.pyplot as plt\n",
    "\n",
    "# Cargar el dataset Fashion MNIST\n",
    "fashion_mnist = tf.keras.datasets.fashion_mnist\n",
    "(train_images, train_labels), (test_images, test_labels) = fashion_mnist.load_data()\n",
    "\n",
    "# Normalización de los datos\n",
    "train_images = train_images / 255.0\n",
    "test_images = test_images / 255.0\n",
    "\n",
    "# Nombres de las clases (categorías)\n",
    "categories = ['Camiseta/top', 'Pantalón', 'Suéter', 'Vestido', 'Abrigo',\n",
    "              'Sandalia', 'Camisa', 'Tenis', 'Bolsa', 'Bota']\n",
    "\n",
    "# Construcción del modelo\n",
    "model = tf.keras.Sequential([\n",
    "    tf.keras.layers.Flatten(input_shape=(28, 28)),  \n",
    "    tf.keras.layers.Dense(128, activation='relu'),  \n",
    "    tf.keras.layers.Dense(10, activation='softmax')  \n",
    "])\n",
    "\n",
    "# Configuración del modelo\n",
    "model.compile(optimizer='adam',\n",
    "              loss='sparse_categorical_crossentropy',\n",
    "              metrics=['accuracy'])\n",
    "\n",
    "# Entrenamiento del modelo\n",
    "model.fit(train_images, train_labels, epochs=10, validation_data=(test_images, test_labels))\n",
    "\n",
    "# Evaluación del modelo\n",
    "loss, accuracy = model.evaluate(test_images, test_labels, verbose=2)\n",
    "print(f'\\nPrecisión alcanzada en el conjunto de prueba: {accuracy:.2f}')\n",
    "\n",
    "# Función para realizar predicciones\n",
    "def classify_image(model, img):\n",
    "    img = np.expand_dims(img, axis=0)  \n",
    "    probabilities = model.predict(img)\n",
    "    predicted_index = np.argmax(probabilities)\n",
    "    confidence_level = np.max(probabilities)\n",
    "    return predicted_index, confidence_level\n",
    "\n",
    "# Selección de imagen para prueba\n",
    "index = 7  \n",
    "test_image = test_images[index]\n",
    "actual_label = test_labels[index]\n",
    "\n",
    "# Predicción del modelo\n",
    "predicted_label, confidence = classify_image(model, test_image)\n",
    "\n",
    "# Visualización de la imagen con resultados\n",
    "plt.imshow(test_image, cmap='gray')\n",
    "plt.axis('off')\n",
    "plt.title(f'Predicción: {categories[predicted_label]}\\n'\n",
    "          f'Confianza: {confidence:.2f}\\n'\n",
    "          f'Etiqueta verdadera: {categories[actual_label]}')\n",
    "plt.show()\n"
   ]
  }
 ],
 "metadata": {
  "kernelspec": {
   "display_name": "Python 3",
   "language": "python",
   "name": "python3"
  },
  "language_info": {
   "codemirror_mode": {
    "name": "ipython",
    "version": 3
   },
   "file_extension": ".py",
   "mimetype": "text/x-python",
   "name": "python",
   "nbconvert_exporter": "python",
   "pygments_lexer": "ipython3",
   "version": "3.12.2"
  }
 },
 "nbformat": 4,
 "nbformat_minor": 2
}
